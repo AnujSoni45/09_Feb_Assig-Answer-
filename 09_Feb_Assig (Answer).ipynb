{
 "cells": [
  {
   "cell_type": "code",
   "execution_count": null,
   "id": "bed3b92c-8450-4feb-a229-56e17bfcffe1",
   "metadata": {},
   "outputs": [],
   "source": [
    "Q1, Create a vehicle class with an init method having instance variables as name_of_vehicle, max_speed\n",
    "and average_of_vehicle."
   ]
  },
  {
   "cell_type": "code",
   "execution_count": 1,
   "id": "e8637dbc-0c11-40c5-8b24-ca41a710674e",
   "metadata": {},
   "outputs": [],
   "source": [
    "(Answer)\n",
    "class Vehicle:\n",
    "    def __init__(self, name_of_vehicle, max_speed, average_speed):\n",
    "        self.name_of_vehicle = name_of_vehicle\n",
    "        self.max_speed = max_speed\n",
    "        self.average_speed = average_speed\n"
   ]
  },
  {
   "cell_type": "code",
   "execution_count": 2,
   "id": "bab15dd5-acc6-440c-8dc4-f745ef2644e7",
   "metadata": {},
   "outputs": [
    {
     "name": "stdout",
     "output_type": "stream",
     "text": [
      "Car\n",
      "200\n",
      "100\n",
      "Bike\n",
      "120\n",
      "60\n"
     ]
    }
   ],
   "source": [
    "car = Vehicle(\"Car\", 200, 100)\n",
    "print(car.name_of_vehicle)      \n",
    "print(car.max_speed)           \n",
    "print(car.average_speed)     \n",
    "\n",
    "bike = Vehicle(\"Bike\", 120, 60)\n",
    "print(bike.name_of_vehicle)     \n",
    "print(bike.max_speed)           \n",
    "print(bike.average_speed)       \n"
   ]
  },
  {
   "cell_type": "code",
   "execution_count": null,
   "id": "a0dced37-b4ce-4d9b-aedc-4fc8c944fa73",
   "metadata": {},
   "outputs": [],
   "source": [
    "Q2. Create a child class car from the vehicle class created in Que 1, which will inherit the vehicle class.\n",
    "Create a method named seating_capacity which takes capacity as an argument and returns the name of\n",
    "the vehicle and its seating capacity."
   ]
  },
  {
   "cell_type": "code",
   "execution_count": 3,
   "id": "4028929d-deae-4d41-9074-e7ba4554720e",
   "metadata": {},
   "outputs": [],
   "source": [
    "(Answer)\n",
    "class Car(Vehicle):\n",
    "    def seating_capacity(self, capacity):\n",
    "        return f\"The {self.name_of_vehicle} has a seating capacity of {capacity} people.\"\n"
   ]
  },
  {
   "cell_type": "code",
   "execution_count": 4,
   "id": "b3935595-26cc-45d1-91bd-3a89a27e7be0",
   "metadata": {},
   "outputs": [
    {
     "name": "stdout",
     "output_type": "stream",
     "text": [
      "The Sedan has a seating capacity of 5 people.\n",
      "The Bus has a seating capacity of 50 people.\n"
     ]
    }
   ],
   "source": [
    "car = Car(\"Sedan\", 200, 100)\n",
    "print(car.seating_capacity(5))\n",
    "\n",
    "bus = Car(\"Bus\", 120, 60)\n",
    "print(bus.seating_capacity(50))\n"
   ]
  },
  {
   "cell_type": "code",
   "execution_count": null,
   "id": "f60d49dc-a1bb-4cbe-926f-2ee4e977cd0b",
   "metadata": {},
   "outputs": [],
   "source": [
    "Q3. What is multiple inheritance? Write a python code to demonstrate multiple inheritance."
   ]
  },
  {
   "cell_type": "code",
   "execution_count": null,
   "id": "e81e4a80-48ba-42a9-ad9a-12d9938ca085",
   "metadata": {},
   "outputs": [],
   "source": [
    "(Answer)\n",
    "Multiple inheritance is a feature in object-oriented programming languages that allows a class to \n",
    "inherit from multiple parent classes. It enables a child class to inherit attributes and methods \n",
    "from multiple parent classes."
   ]
  },
  {
   "cell_type": "code",
   "execution_count": 5,
   "id": "f0b6be32-8621-413c-94c7-eabeddb2f685",
   "metadata": {},
   "outputs": [
    {
     "name": "stdout",
     "output_type": "stream",
     "text": [
      "Bat: Squeak!\n",
      "Flyable: Flying high!\n"
     ]
    }
   ],
   "source": [
    "(Code)\n",
    "class Animal:\n",
    "    def __init__(self, name):\n",
    "        self.name = name\n",
    "\n",
    "    def speak(self):\n",
    "        raise NotImplementedError(\"Subclass must implement the 'speak' method.\")\n",
    "\n",
    "\n",
    "class Mammal(Animal):\n",
    "    def speak(self):\n",
    "        return \"Mammal: Roar!\"\n",
    "\n",
    "\n",
    "class Flyable:\n",
    "    def fly(self):\n",
    "        return \"Flyable: Flying high!\"\n",
    "\n",
    "\n",
    "class Bat(Mammal, Flyable):\n",
    "    def speak(self):\n",
    "        return \"Bat: Squeak!\"\n",
    "\n",
    "\n",
    "bat = Bat(\"Batty\")\n",
    "print(bat.speak())     \n",
    "print(bat.fly())       \n"
   ]
  },
  {
   "cell_type": "code",
   "execution_count": null,
   "id": "5d61a157-dbe4-4e09-a89c-18353339882e",
   "metadata": {},
   "outputs": [],
   "source": [
    "Q4. What are getter and setter in python? Create a class and create a getter and a setter method in this\n",
    "class."
   ]
  },
  {
   "cell_type": "code",
   "execution_count": null,
   "id": "6f72af28-daa3-4a74-af41-68344713a161",
   "metadata": {},
   "outputs": [],
   "source": [
    "(Answer)\n",
    "Getters and setters are methods used to access and modify the values of class attributes. \n",
    "They provide a way to encapsulate attribute access and ensure proper control and validation\n",
    "of attribute values."
   ]
  },
  {
   "cell_type": "code",
   "execution_count": 6,
   "id": "70fc8d98-1182-4f63-b102-0e39dfa6ddda",
   "metadata": {},
   "outputs": [],
   "source": [
    "(Code)\n",
    "class Person:\n",
    "    def __init__(self, name):\n",
    "        self._name = name  \n",
    "\n",
    "    def get_name(self):\n",
    "        return self._name\n",
    "\n",
    "    def set_name(self, name):\n",
    "        self._name = name\n"
   ]
  },
  {
   "cell_type": "code",
   "execution_count": 7,
   "id": "c42c548d-cfb5-44fc-98ac-8989cd1d4c45",
   "metadata": {},
   "outputs": [
    {
     "name": "stdout",
     "output_type": "stream",
     "text": [
      "John\n",
      "Alice\n"
     ]
    }
   ],
   "source": [
    "person = Person(\"John\")\n",
    "print(person.get_name()) \n",
    "\n",
    "person.set_name(\"Alice\")\n",
    "print(person.get_name())  \n"
   ]
  },
  {
   "cell_type": "code",
   "execution_count": null,
   "id": "03e0e1d0-b304-4a23-9892-0694ada50c2f",
   "metadata": {},
   "outputs": [],
   "source": [
    "Q5.What is method overriding in python? Write a python code to demonstrate method overriding."
   ]
  },
  {
   "cell_type": "code",
   "execution_count": null,
   "id": "36a6bdc1-0588-4760-9394-00e82d3e75dd",
   "metadata": {},
   "outputs": [],
   "source": [
    "(Answer)\n",
    "Method overriding is a concept in object-oriented programming where a subclass provides its \n",
    "own implementation of a method that is already defined in its superclass. The overridden method \n",
    "in the subclass has the same name, return type, and parameters as the method in the superclass, \n",
    "but it provides a different implementation."
   ]
  },
  {
   "cell_type": "code",
   "execution_count": 9,
   "id": "4702c0f1-b10e-4150-947c-735f41fb27d3",
   "metadata": {},
   "outputs": [
    {
     "name": "stdout",
     "output_type": "stream",
     "text": [
      "15\n",
      "50.24\n"
     ]
    }
   ],
   "source": [
    "(Code)\n",
    "class Shape:\n",
    "    def area(self):\n",
    "        return 0\n",
    "\n",
    "\n",
    "class Rectangle(Shape):\n",
    "    def __init__(self, length, width):\n",
    "        self.length = length\n",
    "        self.width = width\n",
    "\n",
    "    def area(self):\n",
    "        return self.length * self.width\n",
    "\n",
    "\n",
    "class Circle(Shape):\n",
    "    def __init__(self, radius):\n",
    "        self.radius = radius\n",
    "\n",
    "    def area(self):\n",
    "        return 3.14 * self.radius * self.radius\n",
    "\n",
    "\n",
    "rectangle = Rectangle(5, 3)\n",
    "print(rectangle.area())   \n",
    "\n",
    "circle = Circle(4)\n",
    "print(circle.area())      \n"
   ]
  },
  {
   "cell_type": "code",
   "execution_count": null,
   "id": "2142dafc-cf4b-4d7e-a1cd-97344829f771",
   "metadata": {},
   "outputs": [],
   "source": []
  }
 ],
 "metadata": {
  "kernelspec": {
   "display_name": "Python 3 (ipykernel)",
   "language": "python",
   "name": "python3"
  },
  "language_info": {
   "codemirror_mode": {
    "name": "ipython",
    "version": 3
   },
   "file_extension": ".py",
   "mimetype": "text/x-python",
   "name": "python",
   "nbconvert_exporter": "python",
   "pygments_lexer": "ipython3",
   "version": "3.10.8"
  }
 },
 "nbformat": 4,
 "nbformat_minor": 5
}
